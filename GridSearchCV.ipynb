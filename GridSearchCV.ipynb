{
 "cells": [
  {
   "cell_type": "markdown",
   "metadata": {},
   "source": [
    "## Using GridSearchCV to classify Purchase group or not, select hyperparameter "
   ]
  },
  {
   "cell_type": "code",
   "execution_count": 1,
   "metadata": {},
   "outputs": [],
   "source": [
    "#Importing Libraries\n",
    "import pandas as pd\n",
    "import numpy as np"
   ]
  },
  {
   "cell_type": "code",
   "execution_count": 2,
   "metadata": {},
   "outputs": [],
   "source": [
    "#Importing Dataset and select features\n",
    "data = pd.read_csv('Purchase.csv')"
   ]
  },
  {
   "cell_type": "code",
   "execution_count": 3,
   "metadata": {},
   "outputs": [
    {
     "data": {
      "text/html": [
       "<div>\n",
       "<style scoped>\n",
       "    .dataframe tbody tr th:only-of-type {\n",
       "        vertical-align: middle;\n",
       "    }\n",
       "\n",
       "    .dataframe tbody tr th {\n",
       "        vertical-align: top;\n",
       "    }\n",
       "\n",
       "    .dataframe thead th {\n",
       "        text-align: right;\n",
       "    }\n",
       "</style>\n",
       "<table border=\"1\" class=\"dataframe\">\n",
       "  <thead>\n",
       "    <tr style=\"text-align: right;\">\n",
       "      <th></th>\n",
       "      <th>User ID</th>\n",
       "      <th>Gender</th>\n",
       "      <th>Age</th>\n",
       "      <th>EstimatedSalary</th>\n",
       "      <th>Purchased</th>\n",
       "    </tr>\n",
       "  </thead>\n",
       "  <tbody>\n",
       "    <tr>\n",
       "      <td>0</td>\n",
       "      <td>15624510</td>\n",
       "      <td>Male</td>\n",
       "      <td>19.0</td>\n",
       "      <td>19000.0</td>\n",
       "      <td>0</td>\n",
       "    </tr>\n",
       "    <tr>\n",
       "      <td>1</td>\n",
       "      <td>15810944</td>\n",
       "      <td>Male</td>\n",
       "      <td>35.0</td>\n",
       "      <td>20000.0</td>\n",
       "      <td>0</td>\n",
       "    </tr>\n",
       "    <tr>\n",
       "      <td>2</td>\n",
       "      <td>15668575</td>\n",
       "      <td>Female</td>\n",
       "      <td>26.0</td>\n",
       "      <td>43000.0</td>\n",
       "      <td>0</td>\n",
       "    </tr>\n",
       "    <tr>\n",
       "      <td>3</td>\n",
       "      <td>15603246</td>\n",
       "      <td>Female</td>\n",
       "      <td>27.0</td>\n",
       "      <td>57000.0</td>\n",
       "      <td>0</td>\n",
       "    </tr>\n",
       "    <tr>\n",
       "      <td>4</td>\n",
       "      <td>15804002</td>\n",
       "      <td>Male</td>\n",
       "      <td>19.0</td>\n",
       "      <td>76000.0</td>\n",
       "      <td>0</td>\n",
       "    </tr>\n",
       "    <tr>\n",
       "      <td>...</td>\n",
       "      <td>...</td>\n",
       "      <td>...</td>\n",
       "      <td>...</td>\n",
       "      <td>...</td>\n",
       "      <td>...</td>\n",
       "    </tr>\n",
       "    <tr>\n",
       "      <td>395</td>\n",
       "      <td>15691863</td>\n",
       "      <td>Female</td>\n",
       "      <td>46.0</td>\n",
       "      <td>41000.0</td>\n",
       "      <td>1</td>\n",
       "    </tr>\n",
       "    <tr>\n",
       "      <td>396</td>\n",
       "      <td>15706071</td>\n",
       "      <td>Male</td>\n",
       "      <td>51.0</td>\n",
       "      <td>23000.0</td>\n",
       "      <td>1</td>\n",
       "    </tr>\n",
       "    <tr>\n",
       "      <td>397</td>\n",
       "      <td>15654296</td>\n",
       "      <td>Female</td>\n",
       "      <td>50.0</td>\n",
       "      <td>20000.0</td>\n",
       "      <td>1</td>\n",
       "    </tr>\n",
       "    <tr>\n",
       "      <td>398</td>\n",
       "      <td>15755018</td>\n",
       "      <td>Male</td>\n",
       "      <td>36.0</td>\n",
       "      <td>33000.0</td>\n",
       "      <td>0</td>\n",
       "    </tr>\n",
       "    <tr>\n",
       "      <td>399</td>\n",
       "      <td>15594041</td>\n",
       "      <td>Female</td>\n",
       "      <td>49.0</td>\n",
       "      <td>36000.0</td>\n",
       "      <td>1</td>\n",
       "    </tr>\n",
       "  </tbody>\n",
       "</table>\n",
       "<p>400 rows × 5 columns</p>\n",
       "</div>"
      ],
      "text/plain": [
       "      User ID  Gender   Age  EstimatedSalary  Purchased\n",
       "0    15624510    Male  19.0          19000.0          0\n",
       "1    15810944    Male  35.0          20000.0          0\n",
       "2    15668575  Female  26.0          43000.0          0\n",
       "3    15603246  Female  27.0          57000.0          0\n",
       "4    15804002    Male  19.0          76000.0          0\n",
       "..        ...     ...   ...              ...        ...\n",
       "395  15691863  Female  46.0          41000.0          1\n",
       "396  15706071    Male  51.0          23000.0          1\n",
       "397  15654296  Female  50.0          20000.0          1\n",
       "398  15755018    Male  36.0          33000.0          0\n",
       "399  15594041  Female  49.0          36000.0          1\n",
       "\n",
       "[400 rows x 5 columns]"
      ]
     },
     "execution_count": 3,
     "metadata": {},
     "output_type": "execute_result"
    }
   ],
   "source": [
    "data"
   ]
  },
  {
   "cell_type": "code",
   "execution_count": 4,
   "metadata": {},
   "outputs": [
    {
     "data": {
      "text/html": [
       "<div>\n",
       "<style scoped>\n",
       "    .dataframe tbody tr th:only-of-type {\n",
       "        vertical-align: middle;\n",
       "    }\n",
       "\n",
       "    .dataframe tbody tr th {\n",
       "        vertical-align: top;\n",
       "    }\n",
       "\n",
       "    .dataframe thead th {\n",
       "        text-align: right;\n",
       "    }\n",
       "</style>\n",
       "<table border=\"1\" class=\"dataframe\">\n",
       "  <thead>\n",
       "    <tr style=\"text-align: right;\">\n",
       "      <th></th>\n",
       "      <th>Age</th>\n",
       "      <th>EstimatedSalary</th>\n",
       "    </tr>\n",
       "  </thead>\n",
       "  <tbody>\n",
       "    <tr>\n",
       "      <td>0</td>\n",
       "      <td>19.0</td>\n",
       "      <td>19000.0</td>\n",
       "    </tr>\n",
       "    <tr>\n",
       "      <td>1</td>\n",
       "      <td>35.0</td>\n",
       "      <td>20000.0</td>\n",
       "    </tr>\n",
       "    <tr>\n",
       "      <td>2</td>\n",
       "      <td>26.0</td>\n",
       "      <td>43000.0</td>\n",
       "    </tr>\n",
       "    <tr>\n",
       "      <td>3</td>\n",
       "      <td>27.0</td>\n",
       "      <td>57000.0</td>\n",
       "    </tr>\n",
       "    <tr>\n",
       "      <td>4</td>\n",
       "      <td>19.0</td>\n",
       "      <td>76000.0</td>\n",
       "    </tr>\n",
       "    <tr>\n",
       "      <td>...</td>\n",
       "      <td>...</td>\n",
       "      <td>...</td>\n",
       "    </tr>\n",
       "    <tr>\n",
       "      <td>395</td>\n",
       "      <td>46.0</td>\n",
       "      <td>41000.0</td>\n",
       "    </tr>\n",
       "    <tr>\n",
       "      <td>396</td>\n",
       "      <td>51.0</td>\n",
       "      <td>23000.0</td>\n",
       "    </tr>\n",
       "    <tr>\n",
       "      <td>397</td>\n",
       "      <td>50.0</td>\n",
       "      <td>20000.0</td>\n",
       "    </tr>\n",
       "    <tr>\n",
       "      <td>398</td>\n",
       "      <td>36.0</td>\n",
       "      <td>33000.0</td>\n",
       "    </tr>\n",
       "    <tr>\n",
       "      <td>399</td>\n",
       "      <td>49.0</td>\n",
       "      <td>36000.0</td>\n",
       "    </tr>\n",
       "  </tbody>\n",
       "</table>\n",
       "<p>400 rows × 2 columns</p>\n",
       "</div>"
      ],
      "text/plain": [
       "      Age  EstimatedSalary\n",
       "0    19.0          19000.0\n",
       "1    35.0          20000.0\n",
       "2    26.0          43000.0\n",
       "3    27.0          57000.0\n",
       "4    19.0          76000.0\n",
       "..    ...              ...\n",
       "395  46.0          41000.0\n",
       "396  51.0          23000.0\n",
       "397  50.0          20000.0\n",
       "398  36.0          33000.0\n",
       "399  49.0          36000.0\n",
       "\n",
       "[400 rows x 2 columns]"
      ]
     },
     "execution_count": 4,
     "metadata": {},
     "output_type": "execute_result"
    }
   ],
   "source": [
    "X = data.iloc[:,[2,3]]\n",
    "X"
   ]
  },
  {
   "cell_type": "code",
   "execution_count": 7,
   "metadata": {},
   "outputs": [],
   "source": [
    "y = data.iloc[:,4]"
   ]
  },
  {
   "cell_type": "code",
   "execution_count": 8,
   "metadata": {},
   "outputs": [
    {
     "data": {
      "text/plain": [
       "0      0\n",
       "1      0\n",
       "2      0\n",
       "3      0\n",
       "4      0\n",
       "      ..\n",
       "395    1\n",
       "396    1\n",
       "397    1\n",
       "398    0\n",
       "399    1\n",
       "Name: Purchased, Length: 400, dtype: int64"
      ]
     },
     "execution_count": 8,
     "metadata": {},
     "output_type": "execute_result"
    }
   ],
   "source": [
    "y"
   ]
  },
  {
   "cell_type": "code",
   "execution_count": 9,
   "metadata": {},
   "outputs": [],
   "source": [
    "#Splitting into train set and test set\n",
    "from sklearn.model_selection import train_test_split\n",
    "X_train,X_test,y_train,y_test = train_test_split(X,y,test_size=0.3,random_state=0)"
   ]
  },
  {
   "cell_type": "code",
   "execution_count": 10,
   "metadata": {},
   "outputs": [
    {
     "data": {
      "text/html": [
       "<div>\n",
       "<style scoped>\n",
       "    .dataframe tbody tr th:only-of-type {\n",
       "        vertical-align: middle;\n",
       "    }\n",
       "\n",
       "    .dataframe tbody tr th {\n",
       "        vertical-align: top;\n",
       "    }\n",
       "\n",
       "    .dataframe thead th {\n",
       "        text-align: right;\n",
       "    }\n",
       "</style>\n",
       "<table border=\"1\" class=\"dataframe\">\n",
       "  <thead>\n",
       "    <tr style=\"text-align: right;\">\n",
       "      <th></th>\n",
       "      <th>Age</th>\n",
       "      <th>EstimatedSalary</th>\n",
       "    </tr>\n",
       "  </thead>\n",
       "  <tbody>\n",
       "    <tr>\n",
       "      <td>92</td>\n",
       "      <td>26.0</td>\n",
       "      <td>15000.0</td>\n",
       "    </tr>\n",
       "    <tr>\n",
       "      <td>223</td>\n",
       "      <td>60.0</td>\n",
       "      <td>102000.0</td>\n",
       "    </tr>\n",
       "    <tr>\n",
       "      <td>234</td>\n",
       "      <td>38.0</td>\n",
       "      <td>112000.0</td>\n",
       "    </tr>\n",
       "    <tr>\n",
       "      <td>232</td>\n",
       "      <td>40.0</td>\n",
       "      <td>107000.0</td>\n",
       "    </tr>\n",
       "    <tr>\n",
       "      <td>377</td>\n",
       "      <td>42.0</td>\n",
       "      <td>53000.0</td>\n",
       "    </tr>\n",
       "    <tr>\n",
       "      <td>...</td>\n",
       "      <td>...</td>\n",
       "      <td>...</td>\n",
       "    </tr>\n",
       "    <tr>\n",
       "      <td>323</td>\n",
       "      <td>48.0</td>\n",
       "      <td>30000.0</td>\n",
       "    </tr>\n",
       "    <tr>\n",
       "      <td>192</td>\n",
       "      <td>29.0</td>\n",
       "      <td>43000.0</td>\n",
       "    </tr>\n",
       "    <tr>\n",
       "      <td>117</td>\n",
       "      <td>36.0</td>\n",
       "      <td>52000.0</td>\n",
       "    </tr>\n",
       "    <tr>\n",
       "      <td>47</td>\n",
       "      <td>27.0</td>\n",
       "      <td>54000.0</td>\n",
       "    </tr>\n",
       "    <tr>\n",
       "      <td>172</td>\n",
       "      <td>26.0</td>\n",
       "      <td>118000.0</td>\n",
       "    </tr>\n",
       "  </tbody>\n",
       "</table>\n",
       "<p>280 rows × 2 columns</p>\n",
       "</div>"
      ],
      "text/plain": [
       "      Age  EstimatedSalary\n",
       "92   26.0          15000.0\n",
       "223  60.0         102000.0\n",
       "234  38.0         112000.0\n",
       "232  40.0         107000.0\n",
       "377  42.0          53000.0\n",
       "..    ...              ...\n",
       "323  48.0          30000.0\n",
       "192  29.0          43000.0\n",
       "117  36.0          52000.0\n",
       "47   27.0          54000.0\n",
       "172  26.0         118000.0\n",
       "\n",
       "[280 rows x 2 columns]"
      ]
     },
     "execution_count": 10,
     "metadata": {},
     "output_type": "execute_result"
    }
   ],
   "source": [
    "X_train"
   ]
  },
  {
   "cell_type": "code",
   "execution_count": 11,
   "metadata": {},
   "outputs": [],
   "source": [
    "#Feature Scaling because of variation in Age feature and EstimatedSalary plus units are different\n",
    "from sklearn.preprocessing import StandardScaler # this standarization changes from -1 to 1 where mean =0 and stand_deviation=1\n",
    "sc = StandardScaler()\n",
    "X_train = sc.fit_transform(X_train)\n",
    "X_test = sc.transform(X_test)"
   ]
  },
  {
   "cell_type": "code",
   "execution_count": 12,
   "metadata": {},
   "outputs": [
    {
     "data": {
      "text/plain": [
       "array([[-1.1631724 , -1.5849703 ],\n",
       "       [ 2.17018137,  0.93098672],\n",
       "       [ 0.0133054 ,  1.22017719],\n",
       "       [ 0.20938504,  1.07558195],\n",
       "       [ 0.40546467, -0.48604654],\n",
       "       [-0.28081405, -0.31253226],\n",
       "       [ 0.99370357, -0.8330751 ],\n",
       "       [ 0.99370357,  1.8563962 ],\n",
       "       [ 0.0133054 ,  1.24909623],\n",
       "       [-0.86905295,  2.26126285],\n",
       "       [-1.1631724 , -1.5849703 ],\n",
       "       [ 2.17018137, -0.80415605],\n",
       "       [-1.35925203, -1.46929411],\n",
       "       [ 0.40546467,  2.2901819 ],\n",
       "       [ 0.79762394,  0.75747245],\n",
       "       [-0.96709276, -0.31253226],\n",
       "       [ 0.11134522,  0.75747245],\n",
       "       [-0.96709276,  0.55503912],\n",
       "       [ 0.30742485,  0.06341534],\n",
       "       [ 0.69958412, -1.26686079],\n",
       "       [-0.47689368, -0.0233418 ],\n",
       "       [-1.7514113 ,  0.3526058 ],\n",
       "       [-0.67297331,  0.12125343],\n",
       "       [ 0.40546467,  0.29476771],\n",
       "       [-0.28081405,  0.06341534],\n",
       "       [-0.47689368,  2.2901819 ],\n",
       "       [ 0.20938504,  0.03449629],\n",
       "       [ 1.28782302,  2.20342476],\n",
       "       [ 0.79762394,  0.26584866],\n",
       "       [-0.28081405,  0.15017248],\n",
       "       [ 0.0133054 , -0.54388463],\n",
       "       [-0.18277423,  0.15017248],\n",
       "       [-0.08473441,  0.23692961],\n",
       "       [ 0.0133054 , -0.25469417],\n",
       "       [ 2.17018137,  1.104501  ],\n",
       "       [-1.7514113 ,  0.3526058 ],\n",
       "       [ 1.87606192,  0.12125343],\n",
       "       [ 0.40546467, -0.13901799],\n",
       "       [-1.1631724 ,  0.29476771],\n",
       "       [ 0.79762394,  1.36477242],\n",
       "       [-0.28081405, -0.25469417],\n",
       "       [-1.65337148, -0.05226085],\n",
       "       [-0.96709276, -0.74631796],\n",
       "       [ 0.30742485,  0.49720103],\n",
       "       [-0.08473441, -1.06442747],\n",
       "       [-1.06513258,  0.58395817],\n",
       "       [ 0.11134522, -0.80415605],\n",
       "       [-0.96709276,  1.53828669],\n",
       "       [-0.67297331,  1.39369146],\n",
       "       [-1.26121221,  0.49720103],\n",
       "       [-0.28081405,  0.03449629],\n",
       "       [-0.08473441,  0.00557724],\n",
       "       [-0.28081405, -0.89091319],\n",
       "       [ 0.89566375, -1.35361793],\n",
       "       [-0.28081405,  2.2323438 ],\n",
       "       [ 0.99370357,  1.97207239],\n",
       "       [-1.1631724 ,  0.46828198],\n",
       "       [-1.26121221,  0.26584866],\n",
       "       [ 1.38586284,  1.97207239],\n",
       "       [ 1.28782302, -1.35361793],\n",
       "       [-0.28081405, -0.28361322],\n",
       "       [-0.47689368,  1.24909623],\n",
       "       [-0.77101313,  1.07558195],\n",
       "       [ 0.99370357, -1.06442747],\n",
       "       [ 0.30742485,  0.29476771],\n",
       "       [ 0.99370357,  0.75747245],\n",
       "       [-0.67297331, -1.49821316],\n",
       "       [-0.67297331,  0.03449629],\n",
       "       [ 0.50350449,  1.71180097],\n",
       "       [ 2.07214155,  0.17909152],\n",
       "       [-1.94749093, -0.74631796],\n",
       "       [-0.18277423,  1.39369146],\n",
       "       [ 0.40546467,  0.58395817],\n",
       "       [ 0.89566375, -1.1511846 ],\n",
       "       [-1.1631724 , -0.775237  ],\n",
       "       [ 0.20938504,  0.23692961],\n",
       "       [ 0.79762394, -0.31253226],\n",
       "       [ 2.07214155, -0.80415605],\n",
       "       [ 0.79762394,  0.12125343],\n",
       "       [-0.28081405,  0.61287722],\n",
       "       [-0.96709276, -0.31253226],\n",
       "       [ 0.20938504, -0.37037036],\n",
       "       [ 2.07214155,  2.11666762],\n",
       "       [ 1.87606192, -1.26686079],\n",
       "       [ 1.38586284, -0.91983223],\n",
       "       [ 0.89566375,  1.24909623],\n",
       "       [ 1.48390265,  2.11666762],\n",
       "       [-0.28081405, -1.23794174],\n",
       "       [ 1.97410174,  0.90206768],\n",
       "       [ 0.69958412, -0.71739891],\n",
       "       [-1.45729185,  0.3526058 ],\n",
       "       [ 0.79762394, -1.35361793],\n",
       "       [ 0.40546467, -0.13901799],\n",
       "       [-0.96709276,  0.41044389],\n",
       "       [ 0.0133054 , -0.31253226],\n",
       "       [-1.1631724 ,  0.41044389],\n",
       "       [-0.86905295, -1.2090227 ],\n",
       "       [-0.08473441,  0.03449629],\n",
       "       [-1.55533166, -0.42820845],\n",
       "       [ 0.99370357, -1.00658937],\n",
       "       [ 1.09174339, -1.2090227 ],\n",
       "       [ 0.0133054 , -0.13901799],\n",
       "       [-1.06513258, -1.52713221],\n",
       "       [ 0.79762394, -1.2090227 ],\n",
       "       [ 0.99370357,  2.05882953],\n",
       "       [-1.1631724 , -1.52713221],\n",
       "       [-0.28081405,  0.78639149],\n",
       "       [ 0.11134522, -0.31253226],\n",
       "       [-1.35925203, -1.23794174],\n",
       "       [-0.5749335 , -1.49821316],\n",
       "       [ 0.79762394,  0.52612008],\n",
       "       [-0.28081405, -0.34145131],\n",
       "       [ 1.7780221 , -0.28361322],\n",
       "       [ 0.89566375, -1.03550842],\n",
       "       [ 0.20938504,  0.06341534],\n",
       "       [-0.5749335 ,  0.87314863],\n",
       "       [-1.84945111, -1.41145602],\n",
       "       [-1.26121221,  0.58395817],\n",
       "       [-0.28081405,  0.52612008],\n",
       "       [-0.96709276, -1.09334651],\n",
       "       [ 1.1897832 , -1.44037507],\n",
       "       [ 0.20938504, -0.31253226],\n",
       "       [ 1.1897832 , -0.74631796],\n",
       "       [-0.28081405,  0.06341534],\n",
       "       [ 0.20938504,  2.08774857],\n",
       "       [ 0.79762394, -1.09334651],\n",
       "       [ 0.11134522,  0.03449629],\n",
       "       [-1.7514113 ,  0.12125343],\n",
       "       [-0.86905295,  0.15017248],\n",
       "       [-0.67297331,  0.17909152],\n",
       "       [ 0.89566375, -1.29577984],\n",
       "       [ 0.20938504, -0.25469417],\n",
       "       [-0.37885386,  1.22017719],\n",
       "       [ 0.0133054 ,  0.29476771],\n",
       "       [ 0.40546467,  0.15017248],\n",
       "       [ 0.89566375, -0.65956082],\n",
       "       [ 0.11134522,  0.15017248],\n",
       "       [-1.84945111, -1.29577984],\n",
       "       [-0.08473441,  0.29476771],\n",
       "       [-0.18277423, -0.28361322],\n",
       "       [ 0.30742485, -0.51496559],\n",
       "       [-0.18277423,  1.59612479],\n",
       "       [ 0.99370357, -1.18010365],\n",
       "       [-0.18277423,  1.62504383],\n",
       "       [ 1.28782302,  1.8563962 ],\n",
       "       [-1.06513258, -0.37037036],\n",
       "       [ 0.0133054 ,  0.03449629],\n",
       "       [ 0.11134522, -0.25469417],\n",
       "       [-1.55533166, -1.23794174],\n",
       "       [-0.47689368, -0.28361322],\n",
       "       [ 0.99370357,  0.12125343],\n",
       "       [ 1.97410174, -1.35361793],\n",
       "       [ 1.48390265,  0.06341534],\n",
       "       [-0.5749335 ,  1.36477242],\n",
       "       [ 1.58194247,  0.00557724],\n",
       "       [-0.77101313,  0.29476771],\n",
       "       [ 1.97410174,  0.7285534 ],\n",
       "       [-1.1631724 , -0.51496559],\n",
       "       [ 0.69958412,  0.26584866],\n",
       "       [-1.35925203, -0.42820845],\n",
       "       [ 0.20938504,  0.15017248],\n",
       "       [-0.47689368, -1.2090227 ],\n",
       "       [ 0.6015443 ,  2.00099143],\n",
       "       [-1.55533166, -1.49821316],\n",
       "       [-0.47689368, -0.54388463],\n",
       "       [ 0.50350449,  1.82747716],\n",
       "       [-1.35925203, -1.09334651],\n",
       "       [ 0.79762394, -1.38253697],\n",
       "       [-0.28081405, -0.42820845],\n",
       "       [ 1.58194247,  0.98882482],\n",
       "       [ 0.99370357,  1.42261051],\n",
       "       [-0.28081405, -0.48604654],\n",
       "       [-0.08473441,  2.14558666],\n",
       "       [-1.45729185, -0.11009894],\n",
       "       [-0.08473441,  1.94315334],\n",
       "       [-0.67297331, -0.34145131],\n",
       "       [-0.47689368, -0.8330751 ],\n",
       "       [ 0.69958412, -1.38253697],\n",
       "       [-0.77101313, -1.5849703 ],\n",
       "       [-1.84945111, -1.46929411],\n",
       "       [ 1.09174339,  0.12125343],\n",
       "       [ 0.11134522,  1.50936765],\n",
       "       [-0.28081405,  0.09233438],\n",
       "       [ 0.11134522,  0.03449629],\n",
       "       [-1.35925203, -1.35361793],\n",
       "       [ 0.30742485,  0.06341534],\n",
       "       [-0.86905295,  0.38152485],\n",
       "       [ 1.58194247, -1.26686079],\n",
       "       [-0.28081405, -0.74631796],\n",
       "       [-0.08473441,  0.15017248],\n",
       "       [-0.86905295, -0.65956082],\n",
       "       [-0.67297331, -0.05226085],\n",
       "       [ 0.40546467, -0.45712749],\n",
       "       [-0.77101313,  1.88531525],\n",
       "       [ 1.38586284,  1.27801528],\n",
       "       [ 1.1897832 , -0.97767033],\n",
       "       [ 1.7780221 ,  1.82747716],\n",
       "       [-0.86905295, -0.25469417],\n",
       "       [-0.77101313,  0.55503912],\n",
       "       [-1.1631724 , -1.55605125],\n",
       "       [-0.47689368, -1.12226556],\n",
       "       [ 0.30742485,  0.06341534],\n",
       "       [-0.18277423, -1.06442747],\n",
       "       [ 1.67998229,  1.59612479],\n",
       "       [ 0.99370357,  1.76963906],\n",
       "       [ 0.30742485,  0.03449629],\n",
       "       [-0.77101313, -0.22577513],\n",
       "       [-0.08473441,  0.06341534],\n",
       "       [ 0.30742485, -0.19685608],\n",
       "       [ 1.97410174, -0.65956082],\n",
       "       [-0.77101313,  1.33585337],\n",
       "       [-1.7514113 , -0.60172273],\n",
       "       [-0.08473441,  0.12125343],\n",
       "       [ 0.30742485, -0.31253226],\n",
       "       [ 1.09174339,  0.55503912],\n",
       "       [-0.96709276,  0.26584866],\n",
       "       [ 1.48390265,  0.3526058 ],\n",
       "       [ 0.20938504, -0.37037036],\n",
       "       [ 2.17018137, -1.03550842],\n",
       "       [-0.28081405,  1.104501  ],\n",
       "       [-1.65337148,  0.06341534],\n",
       "       [ 0.0133054 ,  0.03449629],\n",
       "       [ 0.11134522,  1.04666291],\n",
       "       [-0.08473441, -0.37037036],\n",
       "       [-1.1631724 ,  0.06341534],\n",
       "       [-0.28081405, -1.35361793],\n",
       "       [ 1.58194247,  1.104501  ],\n",
       "       [-0.77101313, -1.52713221],\n",
       "       [ 0.11134522,  1.8563962 ],\n",
       "       [-0.86905295, -0.775237  ],\n",
       "       [-0.47689368, -0.775237  ],\n",
       "       [-0.28081405, -0.91983223],\n",
       "       [ 0.30742485, -0.71739891],\n",
       "       [ 0.30742485,  0.06341534],\n",
       "       [ 0.11134522,  1.8563962 ],\n",
       "       [-1.06513258,  1.94315334],\n",
       "       [-1.65337148, -1.55605125],\n",
       "       [-1.1631724 , -1.09334651],\n",
       "       [-0.67297331, -0.11009894],\n",
       "       [ 0.11134522,  0.09233438],\n",
       "       [ 0.30742485,  0.26584866],\n",
       "       [ 0.89566375, -0.57280368],\n",
       "       [ 0.30742485, -1.1511846 ],\n",
       "       [-0.08473441,  0.67071531],\n",
       "       [ 2.17018137, -0.68847986],\n",
       "       [-1.26121221, -1.38253697],\n",
       "       [-0.96709276, -0.94875128],\n",
       "       [ 0.0133054 , -0.42820845],\n",
       "       [-0.18277423, -0.45712749],\n",
       "       [-1.7514113 , -0.97767033],\n",
       "       [ 1.7780221 ,  0.98882482],\n",
       "       [ 0.20938504, -0.37037036],\n",
       "       [ 0.40546467,  1.104501  ],\n",
       "       [-1.7514113 , -1.35361793],\n",
       "       [ 0.20938504, -0.13901799],\n",
       "       [ 0.89566375, -1.44037507],\n",
       "       [-1.94749093,  0.46828198],\n",
       "       [-0.28081405,  0.26584866],\n",
       "       [ 1.87606192, -1.06442747],\n",
       "       [-0.37885386,  0.06341534],\n",
       "       [ 1.09174339, -0.89091319],\n",
       "       [-1.06513258, -1.12226556],\n",
       "       [-1.84945111,  0.00557724],\n",
       "       [ 0.11134522,  0.26584866],\n",
       "       [-1.1631724 ,  0.32368675],\n",
       "       [-1.26121221,  0.29476771],\n",
       "       [-0.96709276,  0.43936294],\n",
       "       [ 1.67998229, -0.89091319],\n",
       "       [ 1.1897832 ,  0.52612008],\n",
       "       [ 1.09174339,  0.52612008],\n",
       "       [ 1.38586284,  2.31910094],\n",
       "       [-0.28081405, -0.13901799],\n",
       "       [ 0.40546467, -0.45712749],\n",
       "       [-0.37885386, -0.775237  ],\n",
       "       [-0.08473441, -0.51496559],\n",
       "       [ 0.99370357, -1.1511846 ],\n",
       "       [-0.86905295, -0.775237  ],\n",
       "       [-0.18277423, -0.51496559],\n",
       "       [-1.06513258, -0.45712749],\n",
       "       [-1.1631724 ,  1.39369146]])"
      ]
     },
     "execution_count": 12,
     "metadata": {},
     "output_type": "execute_result"
    }
   ],
   "source": [
    "X_train"
   ]
  },
  {
   "cell_type": "code",
   "execution_count": 18,
   "metadata": {},
   "outputs": [
    {
     "data": {
      "text/plain": [
       "SVC(C=1.0, cache_size=200, class_weight=None, coef0=0.0,\n",
       "    decision_function_shape='ovr', degree=3, gamma='auto_deprecated',\n",
       "    kernel='linear', max_iter=-1, probability=False, random_state=0,\n",
       "    shrinking=True, tol=0.001, verbose=False)"
      ]
     },
     "execution_count": 18,
     "metadata": {},
     "output_type": "execute_result"
    }
   ],
   "source": [
    "#Fitting Kernel SVM to training set\n",
    "from sklearn.svm import SVC\n",
    "classifier = SVC(kernel=\"linear\",random_state=0)\n",
    "classifier.fit(X_train,y_train)"
   ]
  },
  {
   "cell_type": "code",
   "execution_count": 20,
   "metadata": {},
   "outputs": [],
   "source": [
    "#Predicting for test set\n",
    "y_pred = classifier.predict(X_test)"
   ]
  },
  {
   "cell_type": "code",
   "execution_count": 21,
   "metadata": {},
   "outputs": [
    {
     "data": {
      "text/plain": [
       "array([0, 0, 0, 0, 0, 0, 0, 1, 0, 0, 0, 0, 0, 0, 0, 0, 0, 0, 1, 0, 0, 1,\n",
       "       0, 1, 0, 1, 0, 0, 0, 0, 0, 0, 1, 0, 0, 0, 0, 0, 0, 0, 0, 0, 0, 0,\n",
       "       1, 0, 0, 1, 0, 1, 1, 0, 0, 0, 1, 0, 0, 0, 0, 0, 0, 1, 0, 0, 0, 1,\n",
       "       0, 0, 0, 0, 1, 0, 0, 0, 0, 0, 1, 0, 1, 1, 1, 1, 0, 0, 1, 1, 0, 1,\n",
       "       0, 0, 0, 1, 0, 0, 0, 0, 0, 0, 1, 1, 0, 0, 0, 0, 1, 1, 0, 0, 0, 0,\n",
       "       0, 0, 0, 1, 1, 1, 1, 0, 1, 1], dtype=int64)"
      ]
     },
     "execution_count": 21,
     "metadata": {},
     "output_type": "execute_result"
    }
   ],
   "source": [
    "y_pred"
   ]
  },
  {
   "cell_type": "code",
   "execution_count": 22,
   "metadata": {},
   "outputs": [
    {
     "data": {
      "text/plain": [
       "array([[75,  4],\n",
       "       [12, 29]], dtype=int64)"
      ]
     },
     "execution_count": 22,
     "metadata": {},
     "output_type": "execute_result"
    }
   ],
   "source": [
    "#Confusion Matrix\n",
    "from sklearn.metrics import confusion_matrix\n",
    "cm = confusion_matrix(y_test,y_pred)\n",
    "cm"
   ]
  },
  {
   "cell_type": "code",
   "execution_count": 24,
   "metadata": {},
   "outputs": [
    {
     "data": {
      "text/plain": [
       "0.8666666666666667"
      ]
     },
     "execution_count": 24,
     "metadata": {},
     "output_type": "execute_result"
    }
   ],
   "source": [
    "#accuracy score\n",
    "from sklearn.metrics import accuracy_score\n",
    "accuracy = accuracy_score(y_test,y_pred)\n",
    "accuracy"
   ]
  },
  {
   "cell_type": "code",
   "execution_count": 27,
   "metadata": {},
   "outputs": [
    {
     "name": "stderr",
     "output_type": "stream",
     "text": [
      "C:\\ProgramData\\Anaconda3\\lib\\site-packages\\sklearn\\model_selection\\_search.py:814: DeprecationWarning: The default of the `iid` parameter will change from True to False in version 0.22 and will be removed in 0.24. This will change numeric results when test-set sizes are unequal.\n",
      "  DeprecationWarning)\n"
     ]
    }
   ],
   "source": [
    "#Now we are using GridSearchCV to find the better hyperparameters to enhance our accuracy\n",
    "from sklearn.model_selection import GridSearchCV\n",
    "parameters = [\n",
    "                {'C' : [1,10,100,1000] , 'kernel' : ['linear']},\n",
    "                {'C' : [1,10,100,1000] , 'kernel' : ['rbf'], 'gamma' : [0.1,0.2,0.3,0.4,0.5,0.6,0.7,0.8,0.9]}]\n",
    "\n",
    "grid_search = GridSearchCV(estimator=classifier,\n",
    "                           param_grid = parameters,\n",
    "                           scoring='accuracy',\n",
    "                           cv=10,\n",
    "                           n_jobs = -1\n",
    "                          )\n",
    "\n",
    "grid_search = grid_search.fit(X_train,y_train)"
   ]
  },
  {
   "cell_type": "code",
   "execution_count": 28,
   "metadata": {},
   "outputs": [
    {
     "data": {
      "text/plain": [
       "GridSearchCV(cv=10, error_score='raise-deprecating',\n",
       "             estimator=SVC(C=1.0, cache_size=200, class_weight=None, coef0=0.0,\n",
       "                           decision_function_shape='ovr', degree=3,\n",
       "                           gamma='auto_deprecated', kernel='linear',\n",
       "                           max_iter=-1, probability=False, random_state=0,\n",
       "                           shrinking=True, tol=0.001, verbose=False),\n",
       "             iid='warn', n_jobs=-1,\n",
       "             param_grid=[{'C': [1, 10, 100, 1000], 'kernel': ['linear']},\n",
       "                         {'C': [1, 10, 100, 1000],\n",
       "                          'gamma': [0.1, 0.2, 0.3, 0.4, 0.5, 0.6, 0.7, 0.8,\n",
       "                                    0.9],\n",
       "                          'kernel': ['rbf']}],\n",
       "             pre_dispatch='2*n_jobs', refit=True, return_train_score=False,\n",
       "             scoring='accuracy', verbose=0)"
      ]
     },
     "execution_count": 28,
     "metadata": {},
     "output_type": "execute_result"
    }
   ],
   "source": [
    "grid_search"
   ]
  },
  {
   "cell_type": "code",
   "execution_count": 30,
   "metadata": {},
   "outputs": [],
   "source": [
    "accuracy = grid_search.best_score_"
   ]
  },
  {
   "cell_type": "code",
   "execution_count": 31,
   "metadata": {},
   "outputs": [
    {
     "data": {
      "text/plain": [
       "0.9178571428571428"
      ]
     },
     "execution_count": 31,
     "metadata": {},
     "output_type": "execute_result"
    }
   ],
   "source": [
    "accuracy"
   ]
  },
  {
   "cell_type": "code",
   "execution_count": 33,
   "metadata": {},
   "outputs": [
    {
     "data": {
      "text/plain": [
       "{'C': 1, 'gamma': 0.7, 'kernel': 'rbf'}"
      ]
     },
     "execution_count": 33,
     "metadata": {},
     "output_type": "execute_result"
    }
   ],
   "source": [
    "grid_search.best_params_"
   ]
  },
  {
   "cell_type": "code",
   "execution_count": 35,
   "metadata": {},
   "outputs": [
    {
     "data": {
      "text/plain": [
       "SVC(C=1.0, cache_size=200, class_weight=None, coef0=0.0,\n",
       "    decision_function_shape='ovr', degree=3, gamma=0.7, kernel='rbf',\n",
       "    max_iter=-1, probability=False, random_state=None, shrinking=True,\n",
       "    tol=0.001, verbose=False)"
      ]
     },
     "execution_count": 35,
     "metadata": {},
     "output_type": "execute_result"
    }
   ],
   "source": [
    "classifier = SVC(kernel='rbf',gamma=0.7)\n",
    "classifier.fit(X_train,y_train)"
   ]
  },
  {
   "cell_type": "code",
   "execution_count": 36,
   "metadata": {},
   "outputs": [
    {
     "data": {
      "text/plain": [
       "array([0, 0, 0, 0, 0, 0, 0, 1, 0, 1, 0, 0, 0, 0, 0, 1, 0, 0, 1, 0, 0, 1,\n",
       "       0, 1, 0, 1, 0, 0, 0, 0, 0, 0, 1, 0, 0, 0, 0, 0, 0, 1, 0, 0, 0, 0,\n",
       "       1, 0, 0, 1, 0, 1, 1, 0, 0, 1, 1, 1, 0, 0, 1, 0, 0, 1, 0, 1, 0, 1,\n",
       "       0, 0, 0, 0, 1, 0, 0, 1, 0, 0, 0, 0, 1, 1, 1, 1, 0, 0, 1, 0, 0, 1,\n",
       "       1, 0, 0, 1, 0, 0, 0, 0, 0, 1, 1, 1, 1, 1, 0, 1, 1, 1, 0, 0, 0, 0,\n",
       "       0, 0, 0, 1, 1, 1, 1, 0, 1, 1], dtype=int64)"
      ]
     },
     "execution_count": 36,
     "metadata": {},
     "output_type": "execute_result"
    }
   ],
   "source": [
    "#Prediction\n",
    "y_pred = classifier.predict(X_test)\n",
    "y_pred"
   ]
  },
  {
   "cell_type": "code",
   "execution_count": 38,
   "metadata": {},
   "outputs": [
    {
     "data": {
      "text/plain": [
       "array([[72,  7],\n",
       "       [ 4, 37]], dtype=int64)"
      ]
     },
     "execution_count": 38,
     "metadata": {},
     "output_type": "execute_result"
    }
   ],
   "source": [
    "cm = confusion_matrix(y_test,y_pred)\n",
    "cm"
   ]
  },
  {
   "cell_type": "code",
   "execution_count": 40,
   "metadata": {},
   "outputs": [
    {
     "data": {
      "text/plain": [
       "0.9083333333333333"
      ]
     },
     "execution_count": 40,
     "metadata": {},
     "output_type": "execute_result"
    }
   ],
   "source": [
    "accuracy = accuracy_score(y_test,y_pred)\n",
    "accuracy"
   ]
  },
  {
   "cell_type": "code",
   "execution_count": null,
   "metadata": {},
   "outputs": [],
   "source": []
  },
  {
   "cell_type": "code",
   "execution_count": null,
   "metadata": {},
   "outputs": [],
   "source": []
  },
  {
   "cell_type": "code",
   "execution_count": null,
   "metadata": {},
   "outputs": [],
   "source": []
  },
  {
   "cell_type": "code",
   "execution_count": null,
   "metadata": {},
   "outputs": [],
   "source": []
  },
  {
   "cell_type": "code",
   "execution_count": null,
   "metadata": {},
   "outputs": [],
   "source": []
  },
  {
   "cell_type": "code",
   "execution_count": null,
   "metadata": {},
   "outputs": [],
   "source": []
  },
  {
   "cell_type": "code",
   "execution_count": null,
   "metadata": {},
   "outputs": [],
   "source": []
  },
  {
   "cell_type": "code",
   "execution_count": null,
   "metadata": {},
   "outputs": [],
   "source": []
  }
 ],
 "metadata": {
  "kernelspec": {
   "display_name": "Python 3",
   "language": "python",
   "name": "python3"
  },
  "language_info": {
   "codemirror_mode": {
    "name": "ipython",
    "version": 3
   },
   "file_extension": ".py",
   "mimetype": "text/x-python",
   "name": "python",
   "nbconvert_exporter": "python",
   "pygments_lexer": "ipython3",
   "version": "3.7.4"
  }
 },
 "nbformat": 4,
 "nbformat_minor": 2
}
